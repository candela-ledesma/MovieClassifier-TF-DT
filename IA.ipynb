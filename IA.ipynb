{
  "nbformat": 4,
  "nbformat_minor": 0,
  "metadata": {
    "colab": {
      "provenance": [],
      "include_colab_link": true
    },
    "kernelspec": {
      "name": "python3",
      "display_name": "Python 3"
    },
    "language_info": {
      "name": "python"
    }
  },
  "cells": [
    {
      "cell_type": "markdown",
      "metadata": {
        "id": "view-in-github",
        "colab_type": "text"
      },
      "source": [
        "<a href=\"https://colab.research.google.com/github/candela-ledesma/MovieClassifier-TF-DT/blob/main/IA.ipynb\" target=\"_parent\"><img src=\"https://colab.research.google.com/assets/colab-badge.svg\" alt=\"Open In Colab\"/></a>"
      ]
    },
    {
      "cell_type": "markdown",
      "source": [
        "# Proyecto 2 - Inteligencia Artificial 2024 🤖\n",
        "\n",
        "### Comisión 3 🤩 - Ledesma Candela 🍺 Garcia Romina 🧚\n",
        "\n",
        "\n",
        "---\n",
        "\n"
      ],
      "metadata": {
        "id": "_MTaBZ9LN-tk"
      }
    },
    {
      "cell_type": "markdown",
      "source": [
        "# Carga y análisis de datos"
      ],
      "metadata": {
        "id": "L3DdJ_74Nv_1"
      }
    },
    {
      "cell_type": "markdown",
      "source": [
        "Primero debemos importar las siguientes librerias:"
      ],
      "metadata": {
        "id": "6myLA9fFOgWA"
      }
    },
    {
      "cell_type": "code",
      "execution_count": null,
      "metadata": {
        "id": "3p1gYBLSNq91"
      },
      "outputs": [],
      "source": [
        "import pandas as pd\n",
        "import numpy as np\n",
        "import matplotlib.pyplot as plt\n",
        "import os\n",
        "import warnings\n",
        "from sklearn.model_selection import GridSearchCV\n",
        "os.environ['TF_CPP_MIN_LOG_LEVEL'] = '3'\n",
        "warnings.filterwarnings(\"ignore\")\n",
        "\n",
        "from sklearn.model_selection import GridSearchCV\n",
        "from sklearn.model_selection import train_test_split\n",
        "from sklearn.tree import DecisionTreeClassifier, plot_tree\n",
        "from sklearn.metrics import accuracy_score, classification_report\n",
        "from sklearn.preprocessing import MinMaxScaler\n",
        "from sklearn.preprocessing import OneHotEncoder\n",
        "from sklearn.model_selection import train_test_split, GridSearchCV\n",
        "from sklearn.model_selection import train_test_split, GridSearchCV\n",
        "\n",
        "import tensorflow as tf\n",
        "from tensorflow import keras\n",
        "from tensorflow.keras.utils import to_categorical\n",
        "from tensorflow.keras import Sequential, layers, Input\n"
      ]
    },
    {
      "cell_type": "markdown",
      "source": [
        "⚠ **ADVERTENCIA!!!** Se deben agregar manualmente los archivos movies_train.csv y movies_test.csv para el correcto funcionamiento"
      ],
      "metadata": {
        "id": "RSqA9i2YOwtt"
      }
    },
    {
      "cell_type": "markdown",
      "source": [
        "# Procesamiento de los datos"
      ],
      "metadata": {
        "id": "0Rq4YPbmNy25"
      }
    },
    {
      "cell_type": "markdown",
      "source": [
        "Acomodamos los datos eliminando filas que no tenían valoración, columnas irrelebantes y acomodando otras columnas para que pueda ser analizado correctamente."
      ],
      "metadata": {
        "id": "t-dwQHYuiHY0"
      }
    },
    {
      "cell_type": "code",
      "source": [
        "# prompt: cargar el dataset movies train\n",
        "\n",
        "movies_train_df = pd.read_csv('/content/movies_train.csv')\n",
        "movies_test_df = pd.read_csv('/content/movies_test.csv')\n",
        "\n",
        "\n",
        "#combined_df = pd.concat([movies_train_df, movies_test_df], ignore_index=True)\n",
        "combined_df = movies_train_df\n",
        "\n",
        "# Separar la columna target\n",
        "Y = combined_df['class'].values\n",
        "X = combined_df.drop(columns = [\"class\"])\n",
        "\n",
        "# Porcentajes para datos de validación y test.\n",
        "test_size = 0.20\n",
        "val_size = 0.10\n",
        "\n",
        "# La función train_test_split separa los datos (X, Y) en dos porciones\n",
        "X_train, X_test, y_train, y_test = train_test_split(X, Y, test_size = test_size, random_state = 10)\n",
        "X_train, X_val, y_train, y_val = train_test_split(X_train, y_train, test_size = val_size, random_state = 10)\n",
        "\n",
        "\n",
        "\n",
        "def acomodarTabla(combined_df):\n",
        "    # Eliminamos las columnas que son irrelevantes al problema\n",
        "  combined_df = combined_df.drop('movieId', axis=1)\n",
        "  combined_df = combined_df.drop('title', axis=1)\n",
        "  combined_df = combined_df.drop('production_company_country', axis=1)\n",
        "  combined_df = combined_df.drop('name_p1', axis=1)\n",
        "  combined_df = combined_df.drop('name_p2', axis=1)\n",
        "  combined_df = combined_df.drop('name_p3', axis=1)\n",
        "  combined_df = combined_df.drop('director_name', axis=1)\n",
        "\n",
        "\n",
        "  # dropeamos la columna budget porque 10271/13000 tienen budget en 0\n",
        "  combined_df = combined_df.drop('budget', axis=1)\n",
        "\n",
        "  # hacemos un mappeo de la columna belong to collection para que true sea 1 y false 0\n",
        "  combined_df['belong_to_collection'] = combined_df['belong_to_collection'].map({True: 1, False: 0})\n",
        "\n",
        "\n",
        "  # dropeamos la columna revenue porque 9932/13000 tienen revenue en 0\n",
        "  combined_df = combined_df.drop('revenue', axis=1)\n",
        "\n",
        "  combined_df = pd.get_dummies(combined_df, columns=['genre'], prefix=['genre'], dtype = int)\n",
        "\n",
        "\n",
        "  # Obtenemos el valor promedio de la columna 'runtime' (numérico)\n",
        "  average_runtime = round(combined_df['runtime'].mean())\n",
        "\n",
        "  # Usando el valor anterior, completamos los valores nulos de la columna 'runtime'.\n",
        "  combined_df['runtime'] = combined_df['runtime'].fillna(average_runtime)\n",
        "\n",
        "  # Obtenemos el valor promedio de la columna 'director_popularity' (numérico)\n",
        "  average_director_popularity = round(combined_df['director_popularity'].mean())\n",
        "\n",
        "  # Usando el valor anterior, completamos los valores nulos de la columna 'director_popularity'.\n",
        "  combined_df['director_popularity'] = combined_df['director_popularity'].fillna(average_director_popularity)\n",
        "\n",
        "  # Calculamos el promedio de populariadad de cada companía\n",
        "  company_avg_popularity = combined_df.groupby('production_company_name')['popularity'].mean()\n",
        "\n",
        "  # Creamos una nueva columna para que en vez del dato del nombre de la companía tenga un dato numérico que es la popularidad de esta\n",
        "  combined_df['avg_company_popularity'] = combined_df['production_company_name'].map(company_avg_popularity)\n",
        "\n",
        "  # dropeamos la columna 'production_company_name'\n",
        "  combined_df = combined_df.drop('production_company_name', axis=1)\n",
        "  return combined_df\n",
        "\n",
        "\n",
        "#Aplicamos los cambios anteriores a cada parte del dataset por separado para que el promedio se calcule solo con los datos que se conocen\n",
        "X_train = acomodarTabla(X_train)\n",
        "X_val = acomodarTabla(X_val)\n",
        "X_test = acomodarTabla(X_test)\n",
        "\n",
        "X_FinalTest = acomodarTabla(movies_test_df)\n",
        "\n",
        "combined_df.head()\n",
        "\n",
        "X_train.info()\n",
        "\n",
        "# MinMaxScaler\n",
        "scaler = MinMaxScaler(feature_range = (-1, 1))\n",
        "\n",
        "# Escalamos los datos para que no haya tanta diferencia entre las columnas\n",
        "X_train = scaler.fit_transform(X_train)\n",
        "X_val = scaler.fit_transform(X_val)\n",
        "X_test = scaler.fit_transform(X_test)\n",
        "X_FinalTest = scaler.fit_transform(X_FinalTest)\n"
      ],
      "metadata": {
        "id": "NZHwsQ1PN1i3",
        "colab": {
          "base_uri": "https://localhost:8080/"
        },
        "outputId": "1428bc95-00cc-49dc-e0ac-9972fd22fcdc",
        "collapsed": true
      },
      "execution_count": null,
      "outputs": [
        {
          "output_type": "stream",
          "name": "stdout",
          "text": [
            "<class 'pandas.core.frame.DataFrame'>\n",
            "Index: 9000 entries, 3275 to 418\n",
            "Data columns (total 22 columns):\n",
            " #   Column                  Non-Null Count  Dtype  \n",
            "---  ------                  --------------  -----  \n",
            " 0   belong_to_collection    9000 non-null   int64  \n",
            " 1   popularity              9000 non-null   float64\n",
            " 2   runtime                 9000 non-null   float64\n",
            " 3   popularity_p1           9000 non-null   float64\n",
            " 4   number_movies_p1        9000 non-null   int64  \n",
            " 5   popularity_movies_p1    9000 non-null   float64\n",
            " 6   popularity_p2           9000 non-null   float64\n",
            " 7   number_movies_p2        9000 non-null   int64  \n",
            " 8   popularity_movies_p2    9000 non-null   float64\n",
            " 9   popularity_p3           9000 non-null   float64\n",
            " 10  number_movies_p3        9000 non-null   int64  \n",
            " 11  popularity_movies_p3    9000 non-null   float64\n",
            " 12  director_popularity     9000 non-null   float64\n",
            " 13  genre_Action            9000 non-null   int64  \n",
            " 14  genre_Adventure         9000 non-null   int64  \n",
            " 15  genre_Comedy            9000 non-null   int64  \n",
            " 16  genre_Crime             9000 non-null   int64  \n",
            " 17  genre_Documentary       9000 non-null   int64  \n",
            " 18  genre_Drama             9000 non-null   int64  \n",
            " 19  genre_Horror            9000 non-null   int64  \n",
            " 20  genre_Other             9000 non-null   int64  \n",
            " 21  avg_company_popularity  9000 non-null   float64\n",
            "dtypes: float64(10), int64(12)\n",
            "memory usage: 1.6 MB\n"
          ]
        }
      ]
    },
    {
      "cell_type": "markdown",
      "source": [
        "# Desarrollo de un Árbol de Decisión"
      ],
      "metadata": {
        "id": "8vUIE55YN1rk"
      }
    },
    {
      "cell_type": "markdown",
      "source": [
        "Utilizando los datos acomodados creamos un árbol de desición con los siguientes parámetros que resultaron ser los mejores despues de varias pruebas."
      ],
      "metadata": {
        "id": "vVrZD0cfm4z7"
      }
    },
    {
      "cell_type": "code",
      "source": [
        "# Creamos un árbol de decisión (AD)\n",
        "clf = DecisionTreeClassifier(max_depth = 11, criterion= \"entropy\", min_samples_split= 120)\n",
        "\n",
        "# Se ajusta el AD con los datos de entrenamiento\n",
        "clf = clf.fit(X_train, y_train)\n",
        "\n",
        "\n",
        "print(\"Accuracy sobre conjunto de train:\", clf.score(X_train, y_train))\n",
        "\n",
        "print(\"Accuracy sobre conjunto de test:\", clf.score(X_test, y_test))\n",
        "\n",
        "# Predicciones sobre el conjunto de test\n",
        "predictionsDT = clf.predict(X_test)\n",
        "\n",
        "print(\"Accuracy sobre conjunto de test:\", accuracy_score(y_test, predictionsDT))\n",
        "print()\n",
        "\n",
        "print(classification_report(y_test, predictionsDT))"
      ],
      "metadata": {
        "id": "sQxkXS7_N5sb",
        "colab": {
          "base_uri": "https://localhost:8080/"
        },
        "outputId": "681a0a92-a2a2-42bb-b33b-150770e7d807"
      },
      "execution_count": null,
      "outputs": [
        {
          "output_type": "stream",
          "name": "stdout",
          "text": [
            "Accuracy sobre conjunto de train: 0.7386666666666667\n",
            "Accuracy sobre conjunto de test: 0.6288\n",
            "Accuracy sobre conjunto de test: 0.6288\n",
            "\n",
            "              precision    recall  f1-score   support\n",
            "\n",
            "       Buena       0.60      0.70      0.65      1160\n",
            "        Mala       0.73      0.68      0.70       938\n",
            "   Muy buena       0.43      0.30      0.35       402\n",
            "\n",
            "    accuracy                           0.63      2500\n",
            "   macro avg       0.59      0.56      0.57      2500\n",
            "weighted avg       0.62      0.63      0.62      2500\n",
            "\n"
          ]
        }
      ]
    },
    {
      "cell_type": "markdown",
      "source": [
        "# Desarrollo de una Red Neuronal Artificial"
      ],
      "metadata": {
        "id": "Z9451MGvN53Z"
      }
    },
    {
      "cell_type": "code",
      "source": [
        "# Onehot encoder\n",
        "enc = OneHotEncoder()\n",
        "\n",
        "# El encoder define un mapeo para las etiquetas.\n",
        "y_train_enc = enc.fit_transform(y_train.reshape(-1, 1)).toarray()\n",
        "y_val_enc = enc.transform(y_val.reshape(-1, 1)).toarray() # Aquí usar transform.\n",
        "y_test_enc = enc.transform(y_test.reshape(-1, 1)).toarray() # Aquí usar transform.\n",
        "\n",
        "print(\"Mapeo del encoder:\")\n",
        "pd.DataFrame({\n",
        "    c : enc.transform([[c]]).toarray()[0]\n",
        "    for c in list(enc.categories_[0])\n",
        "})"
      ],
      "metadata": {
        "id": "sO2dBDwKN-Gh",
        "colab": {
          "base_uri": "https://localhost:8080/",
          "height": 161
        },
        "outputId": "6143a7ce-a707-4066-8e3e-cd0b18fedc5d"
      },
      "execution_count": null,
      "outputs": [
        {
          "output_type": "stream",
          "name": "stdout",
          "text": [
            "Mapeo del encoder:\n"
          ]
        },
        {
          "output_type": "execute_result",
          "data": {
            "text/plain": [
              "   Buena  Mala  Muy buena\n",
              "0    1.0   0.0        0.0\n",
              "1    0.0   1.0        0.0\n",
              "2    0.0   0.0        1.0"
            ],
            "text/html": [
              "\n",
              "  <div id=\"df-0a455df2-ef67-4c92-9e68-6eca9d2a9e18\" class=\"colab-df-container\">\n",
              "    <div>\n",
              "<style scoped>\n",
              "    .dataframe tbody tr th:only-of-type {\n",
              "        vertical-align: middle;\n",
              "    }\n",
              "\n",
              "    .dataframe tbody tr th {\n",
              "        vertical-align: top;\n",
              "    }\n",
              "\n",
              "    .dataframe thead th {\n",
              "        text-align: right;\n",
              "    }\n",
              "</style>\n",
              "<table border=\"1\" class=\"dataframe\">\n",
              "  <thead>\n",
              "    <tr style=\"text-align: right;\">\n",
              "      <th></th>\n",
              "      <th>Buena</th>\n",
              "      <th>Mala</th>\n",
              "      <th>Muy buena</th>\n",
              "    </tr>\n",
              "  </thead>\n",
              "  <tbody>\n",
              "    <tr>\n",
              "      <th>0</th>\n",
              "      <td>1.0</td>\n",
              "      <td>0.0</td>\n",
              "      <td>0.0</td>\n",
              "    </tr>\n",
              "    <tr>\n",
              "      <th>1</th>\n",
              "      <td>0.0</td>\n",
              "      <td>1.0</td>\n",
              "      <td>0.0</td>\n",
              "    </tr>\n",
              "    <tr>\n",
              "      <th>2</th>\n",
              "      <td>0.0</td>\n",
              "      <td>0.0</td>\n",
              "      <td>1.0</td>\n",
              "    </tr>\n",
              "  </tbody>\n",
              "</table>\n",
              "</div>\n",
              "    <div class=\"colab-df-buttons\">\n",
              "\n",
              "  <div class=\"colab-df-container\">\n",
              "    <button class=\"colab-df-convert\" onclick=\"convertToInteractive('df-0a455df2-ef67-4c92-9e68-6eca9d2a9e18')\"\n",
              "            title=\"Convert this dataframe to an interactive table.\"\n",
              "            style=\"display:none;\">\n",
              "\n",
              "  <svg xmlns=\"http://www.w3.org/2000/svg\" height=\"24px\" viewBox=\"0 -960 960 960\">\n",
              "    <path d=\"M120-120v-720h720v720H120Zm60-500h600v-160H180v160Zm220 220h160v-160H400v160Zm0 220h160v-160H400v160ZM180-400h160v-160H180v160Zm440 0h160v-160H620v160ZM180-180h160v-160H180v160Zm440 0h160v-160H620v160Z\"/>\n",
              "  </svg>\n",
              "    </button>\n",
              "\n",
              "  <style>\n",
              "    .colab-df-container {\n",
              "      display:flex;\n",
              "      gap: 12px;\n",
              "    }\n",
              "\n",
              "    .colab-df-convert {\n",
              "      background-color: #E8F0FE;\n",
              "      border: none;\n",
              "      border-radius: 50%;\n",
              "      cursor: pointer;\n",
              "      display: none;\n",
              "      fill: #1967D2;\n",
              "      height: 32px;\n",
              "      padding: 0 0 0 0;\n",
              "      width: 32px;\n",
              "    }\n",
              "\n",
              "    .colab-df-convert:hover {\n",
              "      background-color: #E2EBFA;\n",
              "      box-shadow: 0px 1px 2px rgba(60, 64, 67, 0.3), 0px 1px 3px 1px rgba(60, 64, 67, 0.15);\n",
              "      fill: #174EA6;\n",
              "    }\n",
              "\n",
              "    .colab-df-buttons div {\n",
              "      margin-bottom: 4px;\n",
              "    }\n",
              "\n",
              "    [theme=dark] .colab-df-convert {\n",
              "      background-color: #3B4455;\n",
              "      fill: #D2E3FC;\n",
              "    }\n",
              "\n",
              "    [theme=dark] .colab-df-convert:hover {\n",
              "      background-color: #434B5C;\n",
              "      box-shadow: 0px 1px 3px 1px rgba(0, 0, 0, 0.15);\n",
              "      filter: drop-shadow(0px 1px 2px rgba(0, 0, 0, 0.3));\n",
              "      fill: #FFFFFF;\n",
              "    }\n",
              "  </style>\n",
              "\n",
              "    <script>\n",
              "      const buttonEl =\n",
              "        document.querySelector('#df-0a455df2-ef67-4c92-9e68-6eca9d2a9e18 button.colab-df-convert');\n",
              "      buttonEl.style.display =\n",
              "        google.colab.kernel.accessAllowed ? 'block' : 'none';\n",
              "\n",
              "      async function convertToInteractive(key) {\n",
              "        const element = document.querySelector('#df-0a455df2-ef67-4c92-9e68-6eca9d2a9e18');\n",
              "        const dataTable =\n",
              "          await google.colab.kernel.invokeFunction('convertToInteractive',\n",
              "                                                    [key], {});\n",
              "        if (!dataTable) return;\n",
              "\n",
              "        const docLinkHtml = 'Like what you see? Visit the ' +\n",
              "          '<a target=\"_blank\" href=https://colab.research.google.com/notebooks/data_table.ipynb>data table notebook</a>'\n",
              "          + ' to learn more about interactive tables.';\n",
              "        element.innerHTML = '';\n",
              "        dataTable['output_type'] = 'display_data';\n",
              "        await google.colab.output.renderOutput(dataTable, element);\n",
              "        const docLink = document.createElement('div');\n",
              "        docLink.innerHTML = docLinkHtml;\n",
              "        element.appendChild(docLink);\n",
              "      }\n",
              "    </script>\n",
              "  </div>\n",
              "\n",
              "\n",
              "<div id=\"df-38666d6f-550d-408f-b991-8ad828b41f60\">\n",
              "  <button class=\"colab-df-quickchart\" onclick=\"quickchart('df-38666d6f-550d-408f-b991-8ad828b41f60')\"\n",
              "            title=\"Suggest charts\"\n",
              "            style=\"display:none;\">\n",
              "\n",
              "<svg xmlns=\"http://www.w3.org/2000/svg\" height=\"24px\"viewBox=\"0 0 24 24\"\n",
              "     width=\"24px\">\n",
              "    <g>\n",
              "        <path d=\"M19 3H5c-1.1 0-2 .9-2 2v14c0 1.1.9 2 2 2h14c1.1 0 2-.9 2-2V5c0-1.1-.9-2-2-2zM9 17H7v-7h2v7zm4 0h-2V7h2v10zm4 0h-2v-4h2v4z\"/>\n",
              "    </g>\n",
              "</svg>\n",
              "  </button>\n",
              "\n",
              "<style>\n",
              "  .colab-df-quickchart {\n",
              "      --bg-color: #E8F0FE;\n",
              "      --fill-color: #1967D2;\n",
              "      --hover-bg-color: #E2EBFA;\n",
              "      --hover-fill-color: #174EA6;\n",
              "      --disabled-fill-color: #AAA;\n",
              "      --disabled-bg-color: #DDD;\n",
              "  }\n",
              "\n",
              "  [theme=dark] .colab-df-quickchart {\n",
              "      --bg-color: #3B4455;\n",
              "      --fill-color: #D2E3FC;\n",
              "      --hover-bg-color: #434B5C;\n",
              "      --hover-fill-color: #FFFFFF;\n",
              "      --disabled-bg-color: #3B4455;\n",
              "      --disabled-fill-color: #666;\n",
              "  }\n",
              "\n",
              "  .colab-df-quickchart {\n",
              "    background-color: var(--bg-color);\n",
              "    border: none;\n",
              "    border-radius: 50%;\n",
              "    cursor: pointer;\n",
              "    display: none;\n",
              "    fill: var(--fill-color);\n",
              "    height: 32px;\n",
              "    padding: 0;\n",
              "    width: 32px;\n",
              "  }\n",
              "\n",
              "  .colab-df-quickchart:hover {\n",
              "    background-color: var(--hover-bg-color);\n",
              "    box-shadow: 0 1px 2px rgba(60, 64, 67, 0.3), 0 1px 3px 1px rgba(60, 64, 67, 0.15);\n",
              "    fill: var(--button-hover-fill-color);\n",
              "  }\n",
              "\n",
              "  .colab-df-quickchart-complete:disabled,\n",
              "  .colab-df-quickchart-complete:disabled:hover {\n",
              "    background-color: var(--disabled-bg-color);\n",
              "    fill: var(--disabled-fill-color);\n",
              "    box-shadow: none;\n",
              "  }\n",
              "\n",
              "  .colab-df-spinner {\n",
              "    border: 2px solid var(--fill-color);\n",
              "    border-color: transparent;\n",
              "    border-bottom-color: var(--fill-color);\n",
              "    animation:\n",
              "      spin 1s steps(1) infinite;\n",
              "  }\n",
              "\n",
              "  @keyframes spin {\n",
              "    0% {\n",
              "      border-color: transparent;\n",
              "      border-bottom-color: var(--fill-color);\n",
              "      border-left-color: var(--fill-color);\n",
              "    }\n",
              "    20% {\n",
              "      border-color: transparent;\n",
              "      border-left-color: var(--fill-color);\n",
              "      border-top-color: var(--fill-color);\n",
              "    }\n",
              "    30% {\n",
              "      border-color: transparent;\n",
              "      border-left-color: var(--fill-color);\n",
              "      border-top-color: var(--fill-color);\n",
              "      border-right-color: var(--fill-color);\n",
              "    }\n",
              "    40% {\n",
              "      border-color: transparent;\n",
              "      border-right-color: var(--fill-color);\n",
              "      border-top-color: var(--fill-color);\n",
              "    }\n",
              "    60% {\n",
              "      border-color: transparent;\n",
              "      border-right-color: var(--fill-color);\n",
              "    }\n",
              "    80% {\n",
              "      border-color: transparent;\n",
              "      border-right-color: var(--fill-color);\n",
              "      border-bottom-color: var(--fill-color);\n",
              "    }\n",
              "    90% {\n",
              "      border-color: transparent;\n",
              "      border-bottom-color: var(--fill-color);\n",
              "    }\n",
              "  }\n",
              "</style>\n",
              "\n",
              "  <script>\n",
              "    async function quickchart(key) {\n",
              "      const quickchartButtonEl =\n",
              "        document.querySelector('#' + key + ' button');\n",
              "      quickchartButtonEl.disabled = true;  // To prevent multiple clicks.\n",
              "      quickchartButtonEl.classList.add('colab-df-spinner');\n",
              "      try {\n",
              "        const charts = await google.colab.kernel.invokeFunction(\n",
              "            'suggestCharts', [key], {});\n",
              "      } catch (error) {\n",
              "        console.error('Error during call to suggestCharts:', error);\n",
              "      }\n",
              "      quickchartButtonEl.classList.remove('colab-df-spinner');\n",
              "      quickchartButtonEl.classList.add('colab-df-quickchart-complete');\n",
              "    }\n",
              "    (() => {\n",
              "      let quickchartButtonEl =\n",
              "        document.querySelector('#df-38666d6f-550d-408f-b991-8ad828b41f60 button');\n",
              "      quickchartButtonEl.style.display =\n",
              "        google.colab.kernel.accessAllowed ? 'block' : 'none';\n",
              "    })();\n",
              "  </script>\n",
              "</div>\n",
              "\n",
              "    </div>\n",
              "  </div>\n"
            ],
            "application/vnd.google.colaboratory.intrinsic+json": {
              "type": "dataframe",
              "summary": "{\n  \"name\": \"})\",\n  \"rows\": 3,\n  \"fields\": [\n    {\n      \"column\": \"Buena\",\n      \"properties\": {\n        \"dtype\": \"number\",\n        \"std\": 0.5773502691896258,\n        \"min\": 0.0,\n        \"max\": 1.0,\n        \"num_unique_values\": 2,\n        \"samples\": [\n          0.0,\n          1.0\n        ],\n        \"semantic_type\": \"\",\n        \"description\": \"\"\n      }\n    },\n    {\n      \"column\": \"Mala\",\n      \"properties\": {\n        \"dtype\": \"number\",\n        \"std\": 0.5773502691896258,\n        \"min\": 0.0,\n        \"max\": 1.0,\n        \"num_unique_values\": 2,\n        \"samples\": [\n          1.0,\n          0.0\n        ],\n        \"semantic_type\": \"\",\n        \"description\": \"\"\n      }\n    },\n    {\n      \"column\": \"Muy buena\",\n      \"properties\": {\n        \"dtype\": \"number\",\n        \"std\": 0.5773502691896258,\n        \"min\": 0.0,\n        \"max\": 1.0,\n        \"num_unique_values\": 2,\n        \"samples\": [\n          1.0,\n          0.0\n        ],\n        \"semantic_type\": \"\",\n        \"description\": \"\"\n      }\n    }\n  ]\n}"
            }
          },
          "metadata": {},
          "execution_count": 4
        }
      ]
    },
    {
      "cell_type": "code",
      "source": [
        "\n",
        "# Definimos el modelo usando la función de pérdida balanceada\n",
        "def define_model_with_balanced_loss(num_features, num_outputs):\n",
        "    model = Sequential()\n",
        "\n",
        "    # Capa de entrada de la red\n",
        "    model.add(Input(shape=(num_features, )))\n",
        "\n",
        "    model.add(layers.Dense(64, activation = 'tanh'))\n",
        "    model.add(layers.Dense(112, activation = 'relu'))\n",
        "    model.add(layers.Dense(16, activation = 'tanh'))\n",
        "    model.add(layers.Dense(176, activation = 'sigmoid'))\n",
        "    model.add(layers.Dense(144, activation = 'tanh'))\n",
        "\n",
        "    # Capa de salida de la red\n",
        "    model.add(layers.Dense(num_outputs, activation = 'softmax'))\n",
        "\n",
        "    model.compile(optimizer = tf.keras.optimizers.Adam(learning_rate=1e-3),\n",
        "                  loss = 'categorical_crossentropy',\n",
        "                  metrics = ['accuracy'])\n",
        "    return model\n",
        "\n",
        "eps = 32\n",
        "bs = 32\n",
        "\n",
        "num_features = X_train.shape[1] ## cantidad de atributos en X_train y X_val\n",
        "num_outputs = y_train_enc.shape[1] ## cantidad de categorías posibles (4 géneros musicales)\n",
        "\n",
        "# Crear el modelo con la función de pérdida balanceada\n",
        "model = define_model_with_balanced_loss(num_features, num_outputs)\n",
        "\n",
        "# Entrenar el modelo con la función de pérdida balanceada\n",
        "history = model.fit(X_train, y_train_enc, batch_size = bs, epochs = eps, validation_data=(X_val, y_val_enc))\n"
      ],
      "metadata": {
        "colab": {
          "base_uri": "https://localhost:8080/"
        },
        "id": "REJ3gb6rnmVP",
        "outputId": "edca80d9-1fb8-47f5-dc29-35809becfcef",
        "collapsed": true
      },
      "execution_count": null,
      "outputs": [
        {
          "output_type": "stream",
          "name": "stdout",
          "text": [
            "Epoch 1/32\n",
            "\u001b[1m282/282\u001b[0m \u001b[32m━━━━━━━━━━━━━━━━━━━━\u001b[0m\u001b[37m\u001b[0m \u001b[1m4s\u001b[0m 6ms/step - accuracy: 0.4744 - loss: 1.0297 - val_accuracy: 0.4940 - val_loss: 0.9838\n",
            "Epoch 2/32\n",
            "\u001b[1m282/282\u001b[0m \u001b[32m━━━━━━━━━━━━━━━━━━━━\u001b[0m\u001b[37m\u001b[0m \u001b[1m2s\u001b[0m 6ms/step - accuracy: 0.5054 - loss: 0.9880 - val_accuracy: 0.5300 - val_loss: 0.9592\n",
            "Epoch 3/32\n",
            "\u001b[1m282/282\u001b[0m \u001b[32m━━━━━━━━━━━━━━━━━━━━\u001b[0m\u001b[37m\u001b[0m \u001b[1m2s\u001b[0m 4ms/step - accuracy: 0.5110 - loss: 0.9666 - val_accuracy: 0.5420 - val_loss: 0.9602\n",
            "Epoch 4/32\n",
            "\u001b[1m282/282\u001b[0m \u001b[32m━━━━━━━━━━━━━━━━━━━━\u001b[0m\u001b[37m\u001b[0m \u001b[1m1s\u001b[0m 3ms/step - accuracy: 0.5372 - loss: 0.9518 - val_accuracy: 0.5630 - val_loss: 0.9283\n",
            "Epoch 5/32\n",
            "\u001b[1m282/282\u001b[0m \u001b[32m━━━━━━━━━━━━━━━━━━━━\u001b[0m\u001b[37m\u001b[0m \u001b[1m1s\u001b[0m 3ms/step - accuracy: 0.5277 - loss: 0.9517 - val_accuracy: 0.5730 - val_loss: 0.9189\n",
            "Epoch 6/32\n",
            "\u001b[1m282/282\u001b[0m \u001b[32m━━━━━━━━━━━━━━━━━━━━\u001b[0m\u001b[37m\u001b[0m \u001b[1m1s\u001b[0m 3ms/step - accuracy: 0.5455 - loss: 0.9361 - val_accuracy: 0.4830 - val_loss: 1.0807\n",
            "Epoch 7/32\n",
            "\u001b[1m282/282\u001b[0m \u001b[32m━━━━━━━━━━━━━━━━━━━━\u001b[0m\u001b[37m\u001b[0m \u001b[1m1s\u001b[0m 3ms/step - accuracy: 0.5461 - loss: 0.9354 - val_accuracy: 0.4740 - val_loss: 1.0471\n",
            "Epoch 8/32\n",
            "\u001b[1m282/282\u001b[0m \u001b[32m━━━━━━━━━━━━━━━━━━━━\u001b[0m\u001b[37m\u001b[0m \u001b[1m1s\u001b[0m 3ms/step - accuracy: 0.5489 - loss: 0.9351 - val_accuracy: 0.5400 - val_loss: 0.9691\n",
            "Epoch 9/32\n",
            "\u001b[1m282/282\u001b[0m \u001b[32m━━━━━━━━━━━━━━━━━━━━\u001b[0m\u001b[37m\u001b[0m \u001b[1m1s\u001b[0m 2ms/step - accuracy: 0.5560 - loss: 0.9218 - val_accuracy: 0.5700 - val_loss: 0.9020\n",
            "Epoch 10/32\n",
            "\u001b[1m282/282\u001b[0m \u001b[32m━━━━━━━━━━━━━━━━━━━━\u001b[0m\u001b[37m\u001b[0m \u001b[1m1s\u001b[0m 3ms/step - accuracy: 0.5588 - loss: 0.9178 - val_accuracy: 0.5450 - val_loss: 0.9426\n",
            "Epoch 11/32\n",
            "\u001b[1m282/282\u001b[0m \u001b[32m━━━━━━━━━━━━━━━━━━━━\u001b[0m\u001b[37m\u001b[0m \u001b[1m1s\u001b[0m 3ms/step - accuracy: 0.5695 - loss: 0.9063 - val_accuracy: 0.5540 - val_loss: 0.9541\n",
            "Epoch 12/32\n",
            "\u001b[1m282/282\u001b[0m \u001b[32m━━━━━━━━━━━━━━━━━━━━\u001b[0m\u001b[37m\u001b[0m \u001b[1m1s\u001b[0m 3ms/step - accuracy: 0.5753 - loss: 0.8962 - val_accuracy: 0.5750 - val_loss: 0.9066\n",
            "Epoch 13/32\n",
            "\u001b[1m282/282\u001b[0m \u001b[32m━━━━━━━━━━━━━━━━━━━━\u001b[0m\u001b[37m\u001b[0m \u001b[1m2s\u001b[0m 5ms/step - accuracy: 0.5606 - loss: 0.9099 - val_accuracy: 0.5480 - val_loss: 0.9202\n",
            "Epoch 14/32\n",
            "\u001b[1m282/282\u001b[0m \u001b[32m━━━━━━━━━━━━━━━━━━━━\u001b[0m\u001b[37m\u001b[0m \u001b[1m1s\u001b[0m 5ms/step - accuracy: 0.5636 - loss: 0.9086 - val_accuracy: 0.5150 - val_loss: 0.9480\n",
            "Epoch 15/32\n",
            "\u001b[1m282/282\u001b[0m \u001b[32m━━━━━━━━━━━━━━━━━━━━\u001b[0m\u001b[37m\u001b[0m \u001b[1m2s\u001b[0m 3ms/step - accuracy: 0.5699 - loss: 0.8982 - val_accuracy: 0.5070 - val_loss: 1.0011\n",
            "Epoch 16/32\n",
            "\u001b[1m282/282\u001b[0m \u001b[32m━━━━━━━━━━━━━━━━━━━━\u001b[0m\u001b[37m\u001b[0m \u001b[1m1s\u001b[0m 3ms/step - accuracy: 0.5752 - loss: 0.8831 - val_accuracy: 0.5020 - val_loss: 0.9928\n",
            "Epoch 17/32\n",
            "\u001b[1m282/282\u001b[0m \u001b[32m━━━━━━━━━━━━━━━━━━━━\u001b[0m\u001b[37m\u001b[0m \u001b[1m1s\u001b[0m 2ms/step - accuracy: 0.5687 - loss: 0.8934 - val_accuracy: 0.5270 - val_loss: 0.9660\n",
            "Epoch 18/32\n",
            "\u001b[1m282/282\u001b[0m \u001b[32m━━━━━━━━━━━━━━━━━━━━\u001b[0m\u001b[37m\u001b[0m \u001b[1m1s\u001b[0m 3ms/step - accuracy: 0.5853 - loss: 0.8740 - val_accuracy: 0.5620 - val_loss: 0.9132\n",
            "Epoch 19/32\n",
            "\u001b[1m282/282\u001b[0m \u001b[32m━━━━━━━━━━━━━━━━━━━━\u001b[0m\u001b[37m\u001b[0m \u001b[1m1s\u001b[0m 3ms/step - accuracy: 0.5726 - loss: 0.8907 - val_accuracy: 0.5510 - val_loss: 0.9362\n",
            "Epoch 20/32\n",
            "\u001b[1m282/282\u001b[0m \u001b[32m━━━━━━━━━━━━━━━━━━━━\u001b[0m\u001b[37m\u001b[0m \u001b[1m1s\u001b[0m 3ms/step - accuracy: 0.5828 - loss: 0.8854 - val_accuracy: 0.5390 - val_loss: 0.9676\n",
            "Epoch 21/32\n",
            "\u001b[1m282/282\u001b[0m \u001b[32m━━━━━━━━━━━━━━━━━━━━\u001b[0m\u001b[37m\u001b[0m \u001b[1m1s\u001b[0m 3ms/step - accuracy: 0.5839 - loss: 0.8721 - val_accuracy: 0.5970 - val_loss: 0.8956\n",
            "Epoch 22/32\n",
            "\u001b[1m282/282\u001b[0m \u001b[32m━━━━━━━━━━━━━━━━━━━━\u001b[0m\u001b[37m\u001b[0m \u001b[1m1s\u001b[0m 3ms/step - accuracy: 0.5886 - loss: 0.8732 - val_accuracy: 0.5050 - val_loss: 0.9918\n",
            "Epoch 23/32\n",
            "\u001b[1m282/282\u001b[0m \u001b[32m━━━━━━━━━━━━━━━━━━━━\u001b[0m\u001b[37m\u001b[0m \u001b[1m3s\u001b[0m 7ms/step - accuracy: 0.5908 - loss: 0.8641 - val_accuracy: 0.4940 - val_loss: 1.1094\n",
            "Epoch 24/32\n",
            "\u001b[1m282/282\u001b[0m \u001b[32m━━━━━━━━━━━━━━━━━━━━\u001b[0m\u001b[37m\u001b[0m \u001b[1m2s\u001b[0m 4ms/step - accuracy: 0.6018 - loss: 0.8636 - val_accuracy: 0.4530 - val_loss: 1.0450\n",
            "Epoch 25/32\n",
            "\u001b[1m282/282\u001b[0m \u001b[32m━━━━━━━━━━━━━━━━━━━━\u001b[0m\u001b[37m\u001b[0m \u001b[1m1s\u001b[0m 3ms/step - accuracy: 0.6047 - loss: 0.8656 - val_accuracy: 0.6010 - val_loss: 0.8770\n",
            "Epoch 26/32\n",
            "\u001b[1m282/282\u001b[0m \u001b[32m━━━━━━━━━━━━━━━━━━━━\u001b[0m\u001b[37m\u001b[0m \u001b[1m1s\u001b[0m 3ms/step - accuracy: 0.5911 - loss: 0.8725 - val_accuracy: 0.5910 - val_loss: 0.8825\n",
            "Epoch 27/32\n",
            "\u001b[1m282/282\u001b[0m \u001b[32m━━━━━━━━━━━━━━━━━━━━\u001b[0m\u001b[37m\u001b[0m \u001b[1m1s\u001b[0m 2ms/step - accuracy: 0.5987 - loss: 0.8590 - val_accuracy: 0.5710 - val_loss: 0.9261\n",
            "Epoch 28/32\n",
            "\u001b[1m282/282\u001b[0m \u001b[32m━━━━━━━━━━━━━━━━━━━━\u001b[0m\u001b[37m\u001b[0m \u001b[1m1s\u001b[0m 3ms/step - accuracy: 0.5910 - loss: 0.8634 - val_accuracy: 0.5250 - val_loss: 0.9518\n",
            "Epoch 29/32\n",
            "\u001b[1m282/282\u001b[0m \u001b[32m━━━━━━━━━━━━━━━━━━━━\u001b[0m\u001b[37m\u001b[0m \u001b[1m1s\u001b[0m 3ms/step - accuracy: 0.5965 - loss: 0.8600 - val_accuracy: 0.5890 - val_loss: 0.8886\n",
            "Epoch 30/32\n",
            "\u001b[1m282/282\u001b[0m \u001b[32m━━━━━━━━━━━━━━━━━━━━\u001b[0m\u001b[37m\u001b[0m \u001b[1m1s\u001b[0m 2ms/step - accuracy: 0.6044 - loss: 0.8503 - val_accuracy: 0.5890 - val_loss: 0.9027\n",
            "Epoch 31/32\n",
            "\u001b[1m282/282\u001b[0m \u001b[32m━━━━━━━━━━━━━━━━━━━━\u001b[0m\u001b[37m\u001b[0m \u001b[1m2s\u001b[0m 4ms/step - accuracy: 0.6034 - loss: 0.8464 - val_accuracy: 0.5200 - val_loss: 0.9465\n",
            "Epoch 32/32\n",
            "\u001b[1m282/282\u001b[0m \u001b[32m━━━━━━━━━━━━━━━━━━━━\u001b[0m\u001b[37m\u001b[0m \u001b[1m2s\u001b[0m 4ms/step - accuracy: 0.5873 - loss: 0.8617 - val_accuracy: 0.5680 - val_loss: 0.9266\n"
          ]
        }
      ]
    },
    {
      "cell_type": "code",
      "source": [
        "\n",
        "plt.plot(history.history['accuracy'])\n",
        "plt.plot(history.history['val_accuracy'])\n",
        "plt.title('Model accuracy')\n",
        "plt.ylabel('Accuracy')\n",
        "plt.xlabel('Epoch')\n",
        "plt.legend(['Train', 'Validation'], loc='upper left')\n",
        "plt.show()\n",
        "\n",
        "plt.plot(history.history['loss'])\n",
        "plt.plot(history.history['val_loss'])\n",
        "plt.title('Model loss')\n",
        "plt.ylabel('Loss')\n",
        "plt.xlabel('Epoch')\n",
        "plt.legend(['Train', 'Validation'], loc='upper left')\n",
        "plt.show()"
      ],
      "metadata": {
        "colab": {
          "base_uri": "https://localhost:8080/",
          "height": 927
        },
        "id": "aKZBL1UipIq7",
        "outputId": "f05d55c2-fe81-4057-8dff-2dbfa1efe89c"
      },
      "execution_count": null,
      "outputs": [
        {
          "output_type": "display_data",
          "data": {
            "text/plain": [
              "<Figure size 640x480 with 1 Axes>"
            ],
            "image/png": "[encoded data removed]"
          },
          "metadata": {}
        },
        {
          "output_type": "display_data",
          "data": {
            "text/plain": [
              "<Figure size 640x480 with 1 Axes>"
            ],
            "image/png": "[encoded data removed]"
          },
          "metadata": {}
        }
      ]
    },
    {
      "cell_type": "code",
      "source": [
        "# Predicciones sobre el conjunto de validación\n",
        "predictionsTest = model.predict(X_test)\n",
        "\n",
        "print(\"rtados de test\")\n",
        "# Reporte de clasificación\n",
        "print(classification_report(np.argmax(y_test_enc, axis = 1),\n",
        "                            np.argmax(predictionsTest, axis = 1),\n",
        "                            target_names = enc.categories_[0]))\n",
        "\n",
        "predictionsTrain = model.predict(X_train)\n",
        "print(\"rtados de train\")\n",
        "# Reporte de clasificación\n",
        "print(classification_report(np.argmax(y_train_enc, axis = 1),\n",
        "                            np.argmax(predictionsTrain, axis = 1),\n",
        "                            target_names = enc.categories_[0]))"
      ],
      "metadata": {
        "colab": {
          "base_uri": "https://localhost:8080/"
        },
        "id": "i9VCp6tYnrdH",
        "outputId": "ba479011-9d41-481b-c8bc-5833d7644bb1",
        "collapsed": true
      },
      "execution_count": null,
      "outputs": [
        {
          "output_type": "stream",
          "name": "stdout",
          "text": [
            "\u001b[1m79/79\u001b[0m \u001b[32m━━━━━━━━━━━━━━━━━━━━\u001b[0m\u001b[37m\u001b[0m \u001b[1m0s\u001b[0m 3ms/step\n",
            "rtados de test\n",
            "              precision    recall  f1-score   support\n",
            "\n",
            "       Buena       0.58      0.65      0.62      1160\n",
            "        Mala       0.61      0.66      0.64       938\n",
            "   Muy buena       0.50      0.23      0.32       402\n",
            "\n",
            "    accuracy                           0.59      2500\n",
            "   macro avg       0.57      0.52      0.52      2500\n",
            "weighted avg       0.58      0.59      0.58      2500\n",
            "\n",
            "\u001b[1m282/282\u001b[0m \u001b[32m━━━━━━━━━━━━━━━━━━━━\u001b[0m\u001b[37m\u001b[0m \u001b[1m1s\u001b[0m 3ms/step\n",
            "rtados de train\n",
            "              precision    recall  f1-score   support\n",
            "\n",
            "       Buena       0.61      0.69      0.64      4157\n",
            "        Mala       0.61      0.69      0.65      3458\n",
            "   Muy buena       0.69      0.22      0.33      1385\n",
            "\n",
            "    accuracy                           0.61      9000\n",
            "   macro avg       0.64      0.53      0.54      9000\n",
            "weighted avg       0.62      0.61      0.60      9000\n",
            "\n"
          ]
        }
      ]
    },
    {
      "cell_type": "code",
      "source": [
        "\n",
        "tree_predictions = clf.predict(X_FinalTest)\n",
        "nn_predictions = model.predict(X_FinalTest)\n",
        "nn_predictions = np.argmax(nn_predictions, axis=1)\n",
        "\n",
        "class_labels = ['Buena', 'Mala', 'Muy buena']\n",
        "nn_predictions = [class_labels[i] for i in nn_predictions]\n",
        "\n",
        "\n",
        "test_copy = movies_test_df.copy()\n",
        "\n",
        "\n",
        "test_copy['tree_predictions'] = tree_predictions\n",
        "test_copy['nn_predictions'] = nn_predictions\n",
        "\n",
        "\n",
        "test_copy.to_csv('test_with_predictions.csv', index=False)"
      ],
      "metadata": {
        "colab": {
          "base_uri": "https://localhost:8080/"
        },
        "id": "ubLtRt9HCUGo",
        "outputId": "ac9841c5-71a0-41ff-ccf7-4ab5ed703566"
      },
      "execution_count": null,
      "outputs": [
        {
          "output_type": "stream",
          "name": "stdout",
          "text": [
            "\u001b[1m16/16\u001b[0m \u001b[32m━━━━━━━━━━━━━━━━━━━━\u001b[0m\u001b[37m\u001b[0m \u001b[1m0s\u001b[0m 2ms/step \n"
          ]
        }
      ]
    },
    {
      "cell_type": "code",
      "source": [
        "!git clone https://github.com/candela-ledesma/MovieClassifier-TF-DT.git"
      ],
      "metadata": {
        "id": "dcX2Jrejkywn"
      },
      "execution_count": null,
      "outputs": []
    }
  ]
}